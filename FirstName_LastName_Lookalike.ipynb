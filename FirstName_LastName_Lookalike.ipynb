{
 "cells": [
  {
   "cell_type": "code",
   "execution_count": 2,
   "id": "d58efd8d",
   "metadata": {},
   "outputs": [],
   "source": [
    "import pandas as pd\n",
    "import numpy as np\n"
   ]
  },
  {
   "cell_type": "code",
   "execution_count": 3,
   "id": "50baef3d",
   "metadata": {},
   "outputs": [],
   "source": [
    "customers = pd.read_csv('Customers.csv')\n",
    "products = pd.read_csv('Products.csv')\n",
    "transactions = pd.read_csv('Transactions.csv')"
   ]
  },
  {
   "cell_type": "code",
   "execution_count": 4,
   "id": "0805e76d",
   "metadata": {},
   "outputs": [],
   "source": [
    "# Convert date columns\n",
    "transactions['TransactionDate'] = pd.to_datetime(transactions['TransactionDate'])\n",
    "customers['SignupDate'] = pd.to_datetime(customers['SignupDate'])"
   ]
  },
  {
   "cell_type": "code",
   "execution_count": 5,
   "id": "88f75d95",
   "metadata": {},
   "outputs": [
    {
     "data": {
      "text/html": [
       "<div>\n",
       "<style scoped>\n",
       "    .dataframe tbody tr th:only-of-type {\n",
       "        vertical-align: middle;\n",
       "    }\n",
       "\n",
       "    .dataframe tbody tr th {\n",
       "        vertical-align: top;\n",
       "    }\n",
       "\n",
       "    .dataframe thead th {\n",
       "        text-align: right;\n",
       "    }\n",
       "</style>\n",
       "<table border=\"1\" class=\"dataframe\">\n",
       "  <thead>\n",
       "    <tr style=\"text-align: right;\">\n",
       "      <th></th>\n",
       "      <th>TransactionID</th>\n",
       "      <th>CustomerID</th>\n",
       "      <th>ProductID</th>\n",
       "      <th>TransactionDate</th>\n",
       "      <th>Quantity</th>\n",
       "      <th>TotalValue</th>\n",
       "      <th>Price_x</th>\n",
       "      <th>ProductName</th>\n",
       "      <th>Category</th>\n",
       "      <th>Price_y</th>\n",
       "      <th>CustomerName</th>\n",
       "      <th>Region</th>\n",
       "      <th>SignupDate</th>\n",
       "    </tr>\n",
       "  </thead>\n",
       "  <tbody>\n",
       "    <tr>\n",
       "      <th>0</th>\n",
       "      <td>T00001</td>\n",
       "      <td>C0199</td>\n",
       "      <td>P067</td>\n",
       "      <td>2024-08-25 12:38:23</td>\n",
       "      <td>1</td>\n",
       "      <td>300.68</td>\n",
       "      <td>300.68</td>\n",
       "      <td>ComfortLiving Bluetooth Speaker</td>\n",
       "      <td>Electronics</td>\n",
       "      <td>300.68</td>\n",
       "      <td>Andrea Jenkins</td>\n",
       "      <td>Europe</td>\n",
       "      <td>2022-12-03</td>\n",
       "    </tr>\n",
       "    <tr>\n",
       "      <th>1</th>\n",
       "      <td>T00112</td>\n",
       "      <td>C0146</td>\n",
       "      <td>P067</td>\n",
       "      <td>2024-05-27 22:23:54</td>\n",
       "      <td>1</td>\n",
       "      <td>300.68</td>\n",
       "      <td>300.68</td>\n",
       "      <td>ComfortLiving Bluetooth Speaker</td>\n",
       "      <td>Electronics</td>\n",
       "      <td>300.68</td>\n",
       "      <td>Brittany Harvey</td>\n",
       "      <td>Asia</td>\n",
       "      <td>2024-09-04</td>\n",
       "    </tr>\n",
       "    <tr>\n",
       "      <th>2</th>\n",
       "      <td>T00166</td>\n",
       "      <td>C0127</td>\n",
       "      <td>P067</td>\n",
       "      <td>2024-04-25 07:38:55</td>\n",
       "      <td>1</td>\n",
       "      <td>300.68</td>\n",
       "      <td>300.68</td>\n",
       "      <td>ComfortLiving Bluetooth Speaker</td>\n",
       "      <td>Electronics</td>\n",
       "      <td>300.68</td>\n",
       "      <td>Kathryn Stevens</td>\n",
       "      <td>Europe</td>\n",
       "      <td>2024-04-04</td>\n",
       "    </tr>\n",
       "    <tr>\n",
       "      <th>3</th>\n",
       "      <td>T00272</td>\n",
       "      <td>C0087</td>\n",
       "      <td>P067</td>\n",
       "      <td>2024-03-26 22:55:37</td>\n",
       "      <td>2</td>\n",
       "      <td>601.36</td>\n",
       "      <td>300.68</td>\n",
       "      <td>ComfortLiving Bluetooth Speaker</td>\n",
       "      <td>Electronics</td>\n",
       "      <td>300.68</td>\n",
       "      <td>Travis Campbell</td>\n",
       "      <td>South America</td>\n",
       "      <td>2024-04-11</td>\n",
       "    </tr>\n",
       "    <tr>\n",
       "      <th>4</th>\n",
       "      <td>T00363</td>\n",
       "      <td>C0070</td>\n",
       "      <td>P067</td>\n",
       "      <td>2024-03-21 15:10:10</td>\n",
       "      <td>3</td>\n",
       "      <td>902.04</td>\n",
       "      <td>300.68</td>\n",
       "      <td>ComfortLiving Bluetooth Speaker</td>\n",
       "      <td>Electronics</td>\n",
       "      <td>300.68</td>\n",
       "      <td>Timothy Perez</td>\n",
       "      <td>Europe</td>\n",
       "      <td>2022-03-15</td>\n",
       "    </tr>\n",
       "  </tbody>\n",
       "</table>\n",
       "</div>"
      ],
      "text/plain": [
       "  TransactionID CustomerID ProductID     TransactionDate  Quantity  \\\n",
       "0        T00001      C0199      P067 2024-08-25 12:38:23         1   \n",
       "1        T00112      C0146      P067 2024-05-27 22:23:54         1   \n",
       "2        T00166      C0127      P067 2024-04-25 07:38:55         1   \n",
       "3        T00272      C0087      P067 2024-03-26 22:55:37         2   \n",
       "4        T00363      C0070      P067 2024-03-21 15:10:10         3   \n",
       "\n",
       "   TotalValue  Price_x                      ProductName     Category  Price_y  \\\n",
       "0      300.68   300.68  ComfortLiving Bluetooth Speaker  Electronics   300.68   \n",
       "1      300.68   300.68  ComfortLiving Bluetooth Speaker  Electronics   300.68   \n",
       "2      300.68   300.68  ComfortLiving Bluetooth Speaker  Electronics   300.68   \n",
       "3      601.36   300.68  ComfortLiving Bluetooth Speaker  Electronics   300.68   \n",
       "4      902.04   300.68  ComfortLiving Bluetooth Speaker  Electronics   300.68   \n",
       "\n",
       "      CustomerName         Region SignupDate  \n",
       "0   Andrea Jenkins         Europe 2022-12-03  \n",
       "1  Brittany Harvey           Asia 2024-09-04  \n",
       "2  Kathryn Stevens         Europe 2024-04-04  \n",
       "3  Travis Campbell  South America 2024-04-11  \n",
       "4    Timothy Perez         Europe 2022-03-15  "
      ]
     },
     "execution_count": 5,
     "metadata": {},
     "output_type": "execute_result"
    }
   ],
   "source": [
    "# Merge datasets to form a unified view\n",
    "# Merge transactions with products to include product details\n",
    "transactions_with_products = pd.merge(transactions, products, on=\"ProductID\", how=\"left\")\n",
    "\n",
    "# Merge the resulting dataset with customers to include customer details\n",
    "full_data = pd.merge(transactions_with_products, customers, on=\"CustomerID\", how=\"left\")\n",
    "\n",
    "# Display the first few rows of the unified dataset\n",
    "full_data.head()\n"
   ]
  },
  {
   "cell_type": "code",
   "execution_count": 6,
   "id": "164b620b",
   "metadata": {},
   "outputs": [
    {
     "data": {
      "text/plain": [
       "(1000, 13)"
      ]
     },
     "execution_count": 6,
     "metadata": {},
     "output_type": "execute_result"
    }
   ],
   "source": [
    "full_data.shape\n"
   ]
  },
  {
   "cell_type": "code",
   "execution_count": 7,
   "id": "084b9646",
   "metadata": {},
   "outputs": [],
   "source": [
    "# Calculate total spend per customer\n",
    "customer_total_spend = full_data.groupby(\"CustomerID\")[\"TotalValue\"].sum().rename(\"TotalSpend\")\n"
   ]
  },
  {
   "cell_type": "code",
   "execution_count": 8,
   "id": "858e54d4",
   "metadata": {},
   "outputs": [
    {
     "data": {
      "text/plain": [
       "CustomerID\n",
       "C0001    3354.52\n",
       "C0002    1862.74\n",
       "C0003    2725.38\n",
       "C0004    5354.88\n",
       "C0005    2034.24\n",
       "Name: TotalSpend, dtype: float64"
      ]
     },
     "execution_count": 8,
     "metadata": {},
     "output_type": "execute_result"
    }
   ],
   "source": [
    "\n",
    "customer_total_spend.head()"
   ]
  },
  {
   "cell_type": "code",
   "execution_count": 9,
   "id": "9569c31d",
   "metadata": {},
   "outputs": [
    {
     "data": {
      "text/plain": [
       "CustomerID\n",
       "C0001    3354.52\n",
       "C0002    1862.74\n",
       "C0003    2725.38\n",
       "C0004    5354.88\n",
       "C0005    2034.24\n",
       "Name: TotalSpend, dtype: float64"
      ]
     },
     "execution_count": 9,
     "metadata": {},
     "output_type": "execute_result"
    }
   ],
   "source": [
    "customer_total_spend.head()"
   ]
  },
  {
   "cell_type": "code",
   "execution_count": 10,
   "id": "f813c3b5",
   "metadata": {},
   "outputs": [
    {
     "data": {
      "text/html": [
       "<div>\n",
       "<style scoped>\n",
       "    .dataframe tbody tr th:only-of-type {\n",
       "        vertical-align: middle;\n",
       "    }\n",
       "\n",
       "    .dataframe tbody tr th {\n",
       "        vertical-align: top;\n",
       "    }\n",
       "\n",
       "    .dataframe thead th {\n",
       "        text-align: right;\n",
       "    }\n",
       "</style>\n",
       "<table border=\"1\" class=\"dataframe\">\n",
       "  <thead>\n",
       "    <tr style=\"text-align: right;\">\n",
       "      <th></th>\n",
       "      <th>CustomerID</th>\n",
       "      <th>TotalSpend</th>\n",
       "      <th>TransactionCount</th>\n",
       "      <th>PreferredCategory</th>\n",
       "    </tr>\n",
       "  </thead>\n",
       "  <tbody>\n",
       "    <tr>\n",
       "      <th>0</th>\n",
       "      <td>C0001</td>\n",
       "      <td>3354.52</td>\n",
       "      <td>5</td>\n",
       "      <td>Electronics</td>\n",
       "    </tr>\n",
       "    <tr>\n",
       "      <th>1</th>\n",
       "      <td>C0002</td>\n",
       "      <td>1862.74</td>\n",
       "      <td>4</td>\n",
       "      <td>Home Decor</td>\n",
       "    </tr>\n",
       "    <tr>\n",
       "      <th>2</th>\n",
       "      <td>C0003</td>\n",
       "      <td>2725.38</td>\n",
       "      <td>4</td>\n",
       "      <td>Home Decor</td>\n",
       "    </tr>\n",
       "    <tr>\n",
       "      <th>3</th>\n",
       "      <td>C0004</td>\n",
       "      <td>5354.88</td>\n",
       "      <td>8</td>\n",
       "      <td>Home Decor</td>\n",
       "    </tr>\n",
       "    <tr>\n",
       "      <th>4</th>\n",
       "      <td>C0005</td>\n",
       "      <td>2034.24</td>\n",
       "      <td>3</td>\n",
       "      <td>Electronics</td>\n",
       "    </tr>\n",
       "  </tbody>\n",
       "</table>\n",
       "</div>"
      ],
      "text/plain": [
       "  CustomerID  TotalSpend  TransactionCount PreferredCategory\n",
       "0      C0001     3354.52                 5       Electronics\n",
       "1      C0002     1862.74                 4        Home Decor\n",
       "2      C0003     2725.38                 4        Home Decor\n",
       "3      C0004     5354.88                 8        Home Decor\n",
       "4      C0005     2034.24                 3       Electronics"
      ]
     },
     "execution_count": 10,
     "metadata": {},
     "output_type": "execute_result"
    }
   ],
   "source": [
    "# Feature Engineering: Aggregated customer-level features\n",
    "\n",
    "# Calculate total spend per customer\n",
    "customer_total_spend = full_data.groupby(\"CustomerID\")[\"TotalValue\"].sum().rename(\"TotalSpend\")\n",
    "\n",
    "# Calculate the total number of transactions per customer\n",
    "customer_transaction_count = full_data.groupby(\"CustomerID\")[\"TransactionID\"].nunique().rename(\"TransactionCount\")\n",
    "\n",
    "# Find the most frequently purchased product category for each customer\n",
    "customer_preferred_category = (\n",
    "    full_data.groupby([\"CustomerID\", \"Category\"])[\"Quantity\"].sum()\n",
    "    .reset_index()\n",
    "    .sort_values([\"CustomerID\", \"Quantity\"], ascending=[True, False])\n",
    "    .drop_duplicates(\"CustomerID\")[[\"CustomerID\", \"Category\"]]\n",
    "    .rename(columns={\"Category\": \"PreferredCategory\"})\n",
    ")\n",
    "\n",
    "# Combine these features into a single DataFrame\n",
    "customer_features = (\n",
    "    pd.merge(customer_total_spend, customer_transaction_count, on=\"CustomerID\")\n",
    "    .merge(customer_preferred_category, on=\"CustomerID\")\n",
    ")\n",
    "\n",
    "# Display the engineered customer features\n",
    "customer_features.head()\n"
   ]
  },
  {
   "cell_type": "code",
   "execution_count": 11,
   "id": "7cb9646d",
   "metadata": {},
   "outputs": [
    {
     "name": "stderr",
     "output_type": "stream",
     "text": [
      "C:\\Users\\Harshini.T\\AppData\\Local\\Programs\\Python\\Python311\\Lib\\site-packages\\sklearn\\preprocessing\\_encoders.py:972: FutureWarning: `sparse` was renamed to `sparse_output` in version 1.2 and will be removed in 1.4. `sparse_output` is ignored unless you leave `sparse` to its default value.\n",
      "  warnings.warn(\n"
     ]
    },
    {
     "data": {
      "text/plain": [
       "'Lookalike.csv'"
      ]
     },
     "execution_count": 11,
     "metadata": {},
     "output_type": "execute_result"
    }
   ],
   "source": [
    "from sklearn.preprocessing import MinMaxScaler, OneHotEncoder\n",
    "from sklearn.metrics.pairwise import cosine_similarity\n",
    "\n",
    "# Normalize numerical features (TotalSpend and TransactionCount)\n",
    "scaler = MinMaxScaler()\n",
    "numerical_features = customer_features[[\"TotalSpend\", \"TransactionCount\"]]\n",
    "normalized_numerical = scaler.fit_transform(numerical_features)\n",
    "\n",
    "# One-hot encode the categorical feature (PreferredCategory)\n",
    "encoder = OneHotEncoder(sparse=False, handle_unknown=\"ignore\")\n",
    "encoded_category = encoder.fit_transform(customer_features[[\"PreferredCategory\"]])\n",
    "\n",
    "# Combine normalized numerical features and encoded categorical features\n",
    "final_features = pd.DataFrame(\n",
    "    data=np.hstack([normalized_numerical, encoded_category]),\n",
    "    index=customer_features[\"CustomerID\"]\n",
    ")\n",
    "\n",
    "# Compute cosine similarity matrix for all customers\n",
    "similarity_matrix = cosine_similarity(final_features)\n",
    "\n",
    "# Get the first 20 customers (C0001 - C0020)\n",
    "target_customers = customer_features[customer_features[\"CustomerID\"].str.startswith(\"C00\")][:20]\n",
    "\n",
    "# Find the top 3 lookalike customers for each target customer\n",
    "lookalike_results = {}\n",
    "for idx, cust_id in enumerate(target_customers[\"CustomerID\"]):\n",
    "    # Get similarity scores for the current customer\n",
    "    customer_similarities = similarity_matrix[idx]\n",
    "    \n",
    "    # Find the top 3 most similar customers (excluding the customer itself)\n",
    "    similar_indices = customer_similarities.argsort()[-4:-1][::-1]  # Exclude self (top similarity)\n",
    "    similar_scores = customer_similarities[similar_indices]\n",
    "    similar_customers = final_features.index[similar_indices]\n",
    "    \n",
    "    # Save results in a dictionary\n",
    "    lookalike_results[cust_id] = list(zip(similar_customers, similar_scores))\n",
    "\n",
    "# Convert results into a DataFrame for export\n",
    "lookalike_df = pd.DataFrame({\n",
    "    \"CustomerID\": lookalike_results.keys(),\n",
    "    \"Lookalikes\": [v for v in lookalike_results.values()]\n",
    "})\n",
    "\n",
    "# Save the results to Lookalike.csv\n",
    "lookalike_csv_path = \"Lookalike.csv\"\n",
    "lookalike_df.to_csv(lookalike_csv_path, index=False)\n",
    "\n",
    "lookalike_csv_path\n"
   ]
  },
  {
   "cell_type": "code",
   "execution_count": 12,
   "id": "68be1605",
   "metadata": {},
   "outputs": [
    {
     "data": {
      "text/plain": [
       "'Lookalike.csv'"
      ]
     },
     "execution_count": 12,
     "metadata": {},
     "output_type": "execute_result"
    }
   ],
   "source": [
    "\n",
    "\n",
    "# Combine normalized numerical features and encoded categorical features\n",
    "final_features = pd.DataFrame(\n",
    "    data=np.hstack([normalized_numerical, encoded_category]),\n",
    "    index=customer_features[\"CustomerID\"]\n",
    ")\n",
    "\n",
    "# Compute cosine similarity matrix for all customers\n",
    "similarity_matrix = cosine_similarity(final_features)\n",
    "\n",
    "# Get the first 20 customers (C0001 - C0020)\n",
    "target_customers = customer_features[customer_features[\"CustomerID\"].str.startswith(\"C00\")][:20]\n",
    "\n",
    "# Find the top 3 lookalike customers for each target customer\n",
    "lookalike_results = {}\n",
    "for idx, cust_id in enumerate(target_customers[\"CustomerID\"]):\n",
    "    # Get similarity scores for the current customer\n",
    "    customer_similarities = similarity_matrix[idx]\n",
    "    \n",
    "    # Find the top 3 most similar customers (excluding the customer itself)\n",
    "    similar_indices = customer_similarities.argsort()[-4:-1][::-1]  # Exclude self (top similarity)\n",
    "    similar_scores = customer_similarities[similar_indices]\n",
    "    similar_customers = final_features.index[similar_indices]\n",
    "    \n",
    "    # Save results in a dictionary\n",
    "    lookalike_results[cust_id] = list(zip(similar_customers, similar_scores))\n",
    "\n",
    "# Convert results into a DataFrame for export\n",
    "lookalike_df = pd.DataFrame({\n",
    "    \"CustomerID\": lookalike_results.keys(),\n",
    "    \"Lookalikes\": [v for v in lookalike_results.values()]\n",
    "})\n",
    "\n",
    "# Save the results to Lookalike.csv\n",
    "lookalike_csv_path = \"Lookalike.csv\"\n",
    "lookalike_df.to_csv(lookalike_csv_path, index=False)\n",
    "\n",
    "lookalike_csv_path\n"
   ]
  },
  {
   "cell_type": "code",
   "execution_count": 14,
   "id": "b0dda129",
   "metadata": {},
   "outputs": [],
   "source": [
    "import ast\n",
    "\n",
    "# Load the Lookalike.csv file\n",
    "lookalike_csv_path = \"Lookalike.csv\"\n",
    "lookalike_data = pd.read_csv(lookalike_csv_path)\n",
    "\n",
    "# Convert the \"Lookalikes\" column (stored as string) back to a list of tuples\n",
    "lookalike_data[\"Lookalikes\"] = lookalike_data[\"Lookalikes\"].apply(ast.literal_eval)\n",
    "\n",
    "# Function to fetch lookalike customers for a given CustomerID\n",
    "def get_lookalikes(customer_id, lookalike_df):\n",
    "    \"\"\"\n",
    "    Fetch the top 3 lookalike customers for the given CustomerID.\n",
    "\n",
    "    Args:\n",
    "        customer_id (str): The CustomerID for which lookalikes are needed.\n",
    "        lookalike_df (pd.DataFrame): DataFrame containing the lookalike data.\n",
    "\n",
    "    Returns:\n",
    "        list of tuples: Lookalike CustomerIDs and their similarity scores.\n",
    "    \"\"\"\n",
    "    result = lookalike_df[lookalike_df[\"CustomerID\"] == customer_id]\n",
    "    if not result.empty:\n",
    "        return result.iloc[0][\"Lookalikes\"]\n",
    "    else:\n",
    "        return f\"No lookalikes found for CustomerID {customer_id}\"\n",
    "\n"
   ]
  },
  {
   "cell_type": "code",
   "execution_count": 19,
   "id": "804914b6",
   "metadata": {},
   "outputs": [
    {
     "data": {
      "text/plain": [
       "[('C0130', 0.9995444526367542),\n",
       " ('C0140', 0.9911734812068119),\n",
       " ('C0197', 0.9768575792178675)]"
      ]
     },
     "execution_count": 19,
     "metadata": {},
     "output_type": "execute_result"
    }
   ],
   "source": [
    "# Example usage\n",
    "example_customer_id = \"C0020\"\n",
    "get_lookalikes(example_customer_id, lookalike_data)\n"
   ]
  },
  {
   "cell_type": "code",
   "execution_count": null,
   "id": "7c3ac43b",
   "metadata": {},
   "outputs": [],
   "source": []
  }
 ],
 "metadata": {
  "kernelspec": {
   "display_name": "Python 3 (ipykernel)",
   "language": "python",
   "name": "python3"
  },
  "language_info": {
   "codemirror_mode": {
    "name": "ipython",
    "version": 3
   },
   "file_extension": ".py",
   "mimetype": "text/x-python",
   "name": "python",
   "nbconvert_exporter": "python",
   "pygments_lexer": "ipython3",
   "version": "3.11.4"
  }
 },
 "nbformat": 4,
 "nbformat_minor": 5
}
